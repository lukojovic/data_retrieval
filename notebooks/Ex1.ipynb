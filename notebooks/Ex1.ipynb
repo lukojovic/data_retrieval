{
 "cells": [
  {
   "cell_type": "markdown",
   "metadata": {},
   "source": [
    "# Exercise 1 - Download, read and visualize H-SAF ASCAT SSM CDR and ISMN data\n",
    "\n",
    "## Importing packages\n",
    "Here we first import the python packages which we will need throughout this exercise. Don't worry about the warnings. "
   ]
  },
  {
   "cell_type": "code",
   "execution_count": 1,
   "metadata": {},
   "outputs": [
    {
     "name": "stderr",
     "output_type": "stream",
     "text": [
      "/home/npikall/miniconda3/envs/dreo/lib/python3.10/site-packages/ascat/h_saf.py:41: UserWarning: pygrib can not be imported GRIB files (H14) can not be read.\n",
      "  warnings.warn(\n"
     ]
    }
   ],
   "source": [
    "from pathlib import Path\n",
    "\n",
    "import ascat.h_saf as hsaf  # Package for reading hsaf data\n",
    "import ascat.read_native.ragged_array_ts as rat\n",
    "import matplotlib.pyplot as plt  # Plotting library\n",
    "import numpy as np\n",
    "import pandas as pd  # noqa\n",
    "import xarray as xr\n",
    "from ismn.interface import ISMN_Interface  # Package for reading ISMN data"
   ]
  },
  {
   "cell_type": "markdown",
   "metadata": {},
   "source": [
    "## Set paths for data\n",
    "Here we need to set the paths to where the data is stored. If you have stored all the data to the same folder, you will only need to change the path_test_data variable to your data folder. "
   ]
  },
  {
   "cell_type": "code",
   "execution_count": 4,
   "metadata": {},
   "outputs": [
    {
     "name": "stdout",
     "output_type": "stream",
     "text": [
      "Path exists: /home/npikall/Desktop/Data Retrieval in Earth Observation/Data\n",
      "Path exists: /home/npikall/Desktop/Data Retrieval in Earth Observation/Data/hsaf\n",
      "Path exists: /home/npikall/Desktop/Data Retrieval in Earth Observation/Data/static_layer\n",
      "Path exists: /home/npikall/Desktop/Data Retrieval in Earth Observation/Data/warp5_grid\n",
      "Path exists: /home/npikall/Desktop/Data Retrieval in Earth Observation/ismn\n"
     ]
    }
   ],
   "source": [
    "# Set the root path to the data\n",
    "root = Path(\"~/Desktop/Data Retrieval in Earth Observation\").expanduser()\n",
    "sync_path = Path(\"~/shares/radar/DataLab/sync_with_datalab\").expanduser()\n",
    "\n",
    "path_test_data = root / \"Data\"\n",
    "\n",
    "# Paths to the different datasets\n",
    "h120_path = path_test_data / \"hsaf\"\n",
    "static_layer_path = path_test_data / \"static_layer\"\n",
    "grid_path = path_test_data / \"warp5_grid\"\n",
    "ismn_path = root / \"ismn\"\n",
    "\n",
    "cell_source = sync_path / \"datasets/scat_ard/ascat_ssm_cdr_12.5km_h121\"\n",
    "fname = \"Data_separate_files_header_20150224_20250224_11904_gvo0_20250224.zip\"\n",
    "data_path = ismn_path / fname\n",
    "\n",
    "\n",
    "# Check if the paths exist\n",
    "paths = [path_test_data, h120_path, static_layer_path, grid_path, ismn_path]\n",
    "for p in paths:\n",
    "    assert not p.exists()\n",
    "    print(f\"Path exists: {p}\")"
   ]
  },
  {
   "cell_type": "markdown",
   "metadata": {
    "tags": []
   },
   "source": [
    "## Read ISMN Data\n",
    "\n",
    "To read ISMN data there is a package available on github, which is already installed here. A description and examples can be found here: https://ismn.readthedocs.io/en/latest/examples/interface.html\n",
    "\n",
    "In the following cells we give you an example of how to read the data. The first time your data will be unzipped and takes a bit longer. "
   ]
  },
  {
   "cell_type": "code",
   "execution_count": 5,
   "metadata": {},
   "outputs": [
    {
     "ename": "OSError",
     "evalue": "Archive does not exist: /home/npikall/Desktop/Data Retrieval in Earth Observation/ismn/Data_separate_files_header_20150224_20250224_11904_gvo0_20250224.zip",
     "output_type": "error",
     "traceback": [
      "\u001b[0;31m---------------------------------------------------------------------------\u001b[0m",
      "\u001b[0;31mOSError\u001b[0m                                   Traceback (most recent call last)",
      "Cell \u001b[0;32mIn[5], line 3\u001b[0m\n\u001b[1;32m      1\u001b[0m \u001b[38;5;66;03m# Either a .zip file or one folder that contains all networks\u001b[39;00m\n\u001b[1;32m      2\u001b[0m \u001b[38;5;66;03m# here we read from .zip\u001b[39;00m\n\u001b[0;32m----> 3\u001b[0m ismn_data \u001b[38;5;241m=\u001b[39m \u001b[43mISMN_Interface\u001b[49m\u001b[43m(\u001b[49m\u001b[43mdata_path\u001b[49m\u001b[43m,\u001b[49m\u001b[43m \u001b[49m\u001b[43mparallel\u001b[49m\u001b[38;5;241;43m=\u001b[39;49m\u001b[38;5;28;43;01mFalse\u001b[39;49;00m\u001b[43m)\u001b[49m\n",
      "File \u001b[0;32m~/miniconda3/envs/dreo/lib/python3.10/site-packages/ismn/interface.py:152\u001b[0m, in \u001b[0;36mISMN_Interface.__init__\u001b[0;34m(self, data_path, meta_path, network, parallel, keep_loaded_data, temp_root, custom_meta_reader, force_metadata_collection)\u001b[0m\n\u001b[1;32m    149\u001b[0m \u001b[38;5;28mself\u001b[39m\u001b[38;5;241m.\u001b[39mclimate, \u001b[38;5;28mself\u001b[39m\u001b[38;5;241m.\u001b[39mlandcover \u001b[38;5;241m=\u001b[39m KOEPPENGEIGER, LANDCOVER\n\u001b[1;32m    150\u001b[0m \u001b[38;5;28mself\u001b[39m\u001b[38;5;241m.\u001b[39mparallel \u001b[38;5;241m=\u001b[39m parallel\n\u001b[0;32m--> 152\u001b[0m \u001b[38;5;28mself\u001b[39m\u001b[38;5;241m.\u001b[39mroot \u001b[38;5;241m=\u001b[39m \u001b[43mIsmnRoot\u001b[49m\u001b[43m(\u001b[49m\u001b[43mdata_path\u001b[49m\u001b[43m)\u001b[49m\n\u001b[1;32m    154\u001b[0m \u001b[38;5;28mself\u001b[39m\u001b[38;5;241m.\u001b[39mkeep_loaded_data \u001b[38;5;241m=\u001b[39m keep_loaded_data\n\u001b[1;32m    156\u001b[0m \u001b[38;5;28mself\u001b[39m\u001b[38;5;241m.\u001b[39mcustom_meta_reader \u001b[38;5;241m=\u001b[39m custom_meta_reader\n",
      "File \u001b[0;32m~/miniconda3/envs/dreo/lib/python3.10/site-packages/ismn/base.py:79\u001b[0m, in \u001b[0;36mIsmnRoot.__init__\u001b[0;34m(self, path)\u001b[0m\n\u001b[1;32m     76\u001b[0m \u001b[38;5;28mself\u001b[39m\u001b[38;5;241m.\u001b[39mpath \u001b[38;5;241m=\u001b[39m Path(path)\n\u001b[1;32m     78\u001b[0m \u001b[38;5;28;01mif\u001b[39;00m \u001b[38;5;129;01mnot\u001b[39;00m \u001b[38;5;28mself\u001b[39m\u001b[38;5;241m.\u001b[39mpath\u001b[38;5;241m.\u001b[39mexists():\n\u001b[0;32m---> 79\u001b[0m     \u001b[38;5;28;01mraise\u001b[39;00m \u001b[38;5;167;01mIOError\u001b[39;00m(\u001b[38;5;124mf\u001b[39m\u001b[38;5;124m\"\u001b[39m\u001b[38;5;124mArchive does not exist: \u001b[39m\u001b[38;5;132;01m{\u001b[39;00m\u001b[38;5;28mself\u001b[39m\u001b[38;5;241m.\u001b[39mpath\u001b[38;5;132;01m}\u001b[39;00m\u001b[38;5;124m\"\u001b[39m)\n\u001b[1;32m     81\u001b[0m \u001b[38;5;28mself\u001b[39m\u001b[38;5;241m.\u001b[39m__cont \u001b[38;5;241m=\u001b[39m \u001b[38;5;28;01mNone\u001b[39;00m\n\u001b[1;32m     82\u001b[0m \u001b[38;5;28mself\u001b[39m\u001b[38;5;241m.\u001b[39m__isopen \u001b[38;5;241m=\u001b[39m \u001b[38;5;28;01mFalse\u001b[39;00m\n",
      "\u001b[0;31mOSError\u001b[0m: Archive does not exist: /home/npikall/Desktop/Data Retrieval in Earth Observation/ismn/Data_separate_files_header_20150224_20250224_11904_gvo0_20250224.zip"
     ]
    }
   ],
   "source": [
    "# Either a .zip file or one folder that contains all networks\n",
    "# here we read from .zip\n",
    "ismn_data = ISMN_Interface(data_path, parallel=False)"
   ]
  },
  {
   "cell_type": "code",
   "execution_count": 6,
   "metadata": {},
   "outputs": [
    {
     "ename": "NameError",
     "evalue": "name 'ismn_data' is not defined",
     "output_type": "error",
     "traceback": [
      "\u001b[0;31m---------------------------------------------------------------------------\u001b[0m",
      "\u001b[0;31mNameError\u001b[0m                                 Traceback (most recent call last)",
      "Cell \u001b[0;32mIn[6], line 1\u001b[0m\n\u001b[0;32m----> 1\u001b[0m \u001b[38;5;28mdir\u001b[39m(\u001b[43mismn_data\u001b[49m)\n",
      "\u001b[0;31mNameError\u001b[0m: name 'ismn_data' is not defined"
     ]
    }
   ],
   "source": [
    "dir(ismn_data)"
   ]
  },
  {
   "cell_type": "code",
   "execution_count": 7,
   "metadata": {},
   "outputs": [
    {
     "ename": "NameError",
     "evalue": "name 'ismn_data' is not defined",
     "output_type": "error",
     "traceback": [
      "\u001b[0;31m---------------------------------------------------------------------------\u001b[0m",
      "\u001b[0;31mNameError\u001b[0m                                 Traceback (most recent call last)",
      "Cell \u001b[0;32mIn[7], line 5\u001b[0m\n\u001b[1;32m      2\u001b[0m lats \u001b[38;5;241m=\u001b[39m []\n\u001b[1;32m      3\u001b[0m lons \u001b[38;5;241m=\u001b[39m []\n\u001b[0;32m----> 5\u001b[0m \u001b[38;5;28;01mfor\u001b[39;00m station \u001b[38;5;129;01min\u001b[39;00m \u001b[43mismn_data\u001b[49m\u001b[38;5;241m.\u001b[39mstations_that_measure(\u001b[38;5;124m\"\u001b[39m\u001b[38;5;124msoil_moisture\u001b[39m\u001b[38;5;124m\"\u001b[39m):\n\u001b[1;32m      6\u001b[0m     station_ids\u001b[38;5;241m.\u001b[39mappend(station\u001b[38;5;241m.\u001b[39mname)\n\u001b[1;32m      7\u001b[0m     lats\u001b[38;5;241m.\u001b[39mappend(station\u001b[38;5;241m.\u001b[39mlat)\n",
      "\u001b[0;31mNameError\u001b[0m: name 'ismn_data' is not defined"
     ]
    }
   ],
   "source": [
    "station_ids = []\n",
    "lats = []\n",
    "lons = []\n",
    "\n",
    "for station in ismn_data.stations_that_measure(\"soil_moisture\"):\n",
    "    station_ids.append(station.name)\n",
    "    lats.append(station.lat)\n",
    "    lons.append(station.lon)\n",
    "\n",
    "plt.figure(figsize=(6, 6))\n",
    "plt.scatter(\n",
    "    lons, lats, marker=\"o\", c=\"red\", edgecolors=\"black\", label=\"ISMN Stations\"\n",
    ")\n",
    "\n",
    "for i, station_id in enumerate(station_ids):\n",
    "    plt.text(lons[i], lats[i], station_id, fontsize=9, ha=\"right\", va=\"bottom\")\n",
    "\n",
    "plt.xlabel(\"Longitude\")\n",
    "plt.ylabel(\"Latitude\")\n",
    "plt.title(\"ISMN Station Locations\")\n",
    "plt.legend()\n",
    "plt.grid(True)\n",
    "plt.show()"
   ]
  },
  {
   "cell_type": "code",
   "execution_count": 8,
   "metadata": {},
   "outputs": [
    {
     "ename": "NameError",
     "evalue": "name 'ismn_data' is not defined",
     "output_type": "error",
     "traceback": [
      "\u001b[0;31m---------------------------------------------------------------------------\u001b[0m",
      "\u001b[0;31mNameError\u001b[0m                                 Traceback (most recent call last)",
      "Cell \u001b[0;32mIn[8], line 2\u001b[0m\n\u001b[1;32m      1\u001b[0m \u001b[38;5;66;03m# Loop through each station that measures soil moisture\u001b[39;00m\n\u001b[0;32m----> 2\u001b[0m \u001b[38;5;28;01mfor\u001b[39;00m station \u001b[38;5;129;01min\u001b[39;00m \u001b[43mismn_data\u001b[49m\u001b[38;5;241m.\u001b[39mstations_that_measure(\u001b[38;5;124m\"\u001b[39m\u001b[38;5;124msoil_moisture\u001b[39m\u001b[38;5;124m\"\u001b[39m):\n\u001b[1;32m      3\u001b[0m     \u001b[38;5;28mprint\u001b[39m(\u001b[38;5;124mf\u001b[39m\u001b[38;5;124m\"\u001b[39m\u001b[38;5;130;01m\\n\u001b[39;00m\u001b[38;5;124m Station \u001b[39m\u001b[38;5;124m'\u001b[39m\u001b[38;5;132;01m{\u001b[39;00mstation\u001b[38;5;241m.\u001b[39mname\u001b[38;5;132;01m}\u001b[39;00m\u001b[38;5;124m'\u001b[39m\u001b[38;5;124m has the following sensors:\u001b[39m\u001b[38;5;130;01m\\n\u001b[39;00m\u001b[38;5;124m\"\u001b[39m)\n\u001b[1;32m      5\u001b[0m     \u001b[38;5;28;01mfor\u001b[39;00m sensor \u001b[38;5;129;01min\u001b[39;00m station\u001b[38;5;241m.\u001b[39msensors:\n",
      "\u001b[0;31mNameError\u001b[0m: name 'ismn_data' is not defined"
     ]
    }
   ],
   "source": [
    "# Loop through each station that measures soil moisture\n",
    "for station in ismn_data.stations_that_measure(\"soil_moisture\"):\n",
    "    print(f\"\\n Station '{station.name}' has the following sensors:\\n\")\n",
    "\n",
    "    for sensor in station.sensors:\n",
    "        print(f\"   - {sensor}\")\n",
    "\n",
    "    print(\"_\" * 60)  # Separator line for readability"
   ]
  },
  {
   "cell_type": "code",
   "execution_count": 9,
   "metadata": {},
   "outputs": [
    {
     "ename": "NameError",
     "evalue": "name 'ismn_data' is not defined",
     "output_type": "error",
     "traceback": [
      "\u001b[0;31m---------------------------------------------------------------------------\u001b[0m",
      "\u001b[0;31mNameError\u001b[0m                                 Traceback (most recent call last)",
      "Cell \u001b[0;32mIn[9], line 2\u001b[0m\n\u001b[1;32m      1\u001b[0m station_id \u001b[38;5;241m=\u001b[39m \u001b[38;5;241m54\u001b[39m  \u001b[38;5;66;03m# integer in the case of this network\u001b[39;00m\n\u001b[0;32m----> 2\u001b[0m \u001b[43mismn_data\u001b[49m[\u001b[38;5;124m\"\u001b[39m\u001b[38;5;124mWEGENERNET\u001b[39m\u001b[38;5;124m\"\u001b[39m]\u001b[38;5;241m.\u001b[39mstations\u001b[38;5;241m.\u001b[39mget(station_id)\n",
      "\u001b[0;31mNameError\u001b[0m: name 'ismn_data' is not defined"
     ]
    }
   ],
   "source": [
    "station_id = 54  # integer in the case of this network\n",
    "ismn_data[\"WEGENERNET\"].stations.get(station_id)"
   ]
  },
  {
   "cell_type": "code",
   "execution_count": 10,
   "metadata": {},
   "outputs": [
    {
     "ename": "NameError",
     "evalue": "name 'ismn_data' is not defined",
     "output_type": "error",
     "traceback": [
      "\u001b[0;31m---------------------------------------------------------------------------\u001b[0m",
      "\u001b[0;31mNameError\u001b[0m                                 Traceback (most recent call last)",
      "Cell \u001b[0;32mIn[10], line 2\u001b[0m\n\u001b[1;32m      1\u001b[0m insitu_ds \u001b[38;5;241m=\u001b[39m (\n\u001b[0;32m----> 2\u001b[0m     \u001b[43mismn_data\u001b[49m[\u001b[38;5;124m\"\u001b[39m\u001b[38;5;124mWEGENERNET\u001b[39m\u001b[38;5;124m\"\u001b[39m]\n\u001b[1;32m      3\u001b[0m     \u001b[38;5;241m.\u001b[39mstations\u001b[38;5;241m.\u001b[39mget(station_id)[\u001b[38;5;124m\"\u001b[39m\u001b[38;5;124mHydraprobe-II_soil_moisture_0.200000_0.200000\u001b[39m\u001b[38;5;124m\"\u001b[39m]\n\u001b[1;32m      4\u001b[0m     \u001b[38;5;241m.\u001b[39mto_xarray()\n\u001b[1;32m      5\u001b[0m )\n\u001b[1;32m      6\u001b[0m insitu_ds \u001b[38;5;241m=\u001b[39m insitu_ds\u001b[38;5;241m.\u001b[39msqueeze()\n\u001b[1;32m      7\u001b[0m insitu_ds\n",
      "\u001b[0;31mNameError\u001b[0m: name 'ismn_data' is not defined"
     ]
    }
   ],
   "source": [
    "insitu_ds = (\n",
    "    ismn_data[\"WEGENERNET\"]\n",
    "    .stations.get(station_id)[\"Hydraprobe-II_soil_moisture_0.200000_0.200000\"]\n",
    "    .to_xarray()\n",
    ")\n",
    "insitu_ds = insitu_ds.squeeze()\n",
    "insitu_ds"
   ]
  },
  {
   "cell_type": "markdown",
   "metadata": {},
   "source": [
    "Let's plot the data quickly with the xarray module."
   ]
  },
  {
   "cell_type": "code",
   "execution_count": 11,
   "metadata": {},
   "outputs": [
    {
     "ename": "NameError",
     "evalue": "name 'insitu_ds' is not defined",
     "output_type": "error",
     "traceback": [
      "\u001b[0;31m---------------------------------------------------------------------------\u001b[0m",
      "\u001b[0;31mNameError\u001b[0m                                 Traceback (most recent call last)",
      "Cell \u001b[0;32mIn[11], line 1\u001b[0m\n\u001b[0;32m----> 1\u001b[0m \u001b[43minsitu_ds\u001b[49m\u001b[38;5;241m.\u001b[39msoil_moisture\u001b[38;5;241m.\u001b[39mplot()\n",
      "\u001b[0;31mNameError\u001b[0m: name 'insitu_ds' is not defined"
     ]
    }
   ],
   "source": [
    "insitu_ds.soil_moisture.plot()"
   ]
  },
  {
   "cell_type": "code",
   "execution_count": 12,
   "metadata": {},
   "outputs": [
    {
     "ename": "NameError",
     "evalue": "name 'ismn_data' is not defined",
     "output_type": "error",
     "traceback": [
      "\u001b[0;31m---------------------------------------------------------------------------\u001b[0m",
      "\u001b[0;31mNameError\u001b[0m                                 Traceback (most recent call last)",
      "Cell \u001b[0;32mIn[12], line 2\u001b[0m\n\u001b[1;32m      1\u001b[0m \u001b[38;5;66;03m# let's display metadata in form of dataframe, so it is easier to read\u001b[39;00m\n\u001b[0;32m----> 2\u001b[0m meta \u001b[38;5;241m=\u001b[39m \u001b[43mismn_data\u001b[49m[\u001b[38;5;124m\"\u001b[39m\u001b[38;5;124mWEGENERNET\u001b[39m\u001b[38;5;124m\"\u001b[39m]\u001b[38;5;241m.\u001b[39mstations\u001b[38;5;241m.\u001b[39mget(station_id)\u001b[38;5;241m.\u001b[39mmetadata\n\u001b[1;32m      3\u001b[0m meta\u001b[38;5;241m.\u001b[39mto_pd()\n",
      "\u001b[0;31mNameError\u001b[0m: name 'ismn_data' is not defined"
     ]
    }
   ],
   "source": [
    "# let's display metadata in form of dataframe, so it is easier to read\n",
    "meta = ismn_data[\"WEGENERNET\"].stations.get(station_id).metadata\n",
    "meta.to_pd()"
   ]
  },
  {
   "cell_type": "markdown",
   "metadata": {},
   "source": [
    "Save the location information."
   ]
  },
  {
   "cell_type": "code",
   "execution_count": 13,
   "metadata": {},
   "outputs": [
    {
     "ename": "NameError",
     "evalue": "name 'ismn_data' is not defined",
     "output_type": "error",
     "traceback": [
      "\u001b[0;31m---------------------------------------------------------------------------\u001b[0m",
      "\u001b[0;31mNameError\u001b[0m                                 Traceback (most recent call last)",
      "Cell \u001b[0;32mIn[13], line 1\u001b[0m\n\u001b[0;32m----> 1\u001b[0m lon \u001b[38;5;241m=\u001b[39m \u001b[43mismn_data\u001b[49m\u001b[38;5;241m.\u001b[39mmetadata\u001b[38;5;241m.\u001b[39mlongitude\u001b[38;5;241m.\u001b[39mval\n\u001b[1;32m      2\u001b[0m lat \u001b[38;5;241m=\u001b[39m ismn_data\u001b[38;5;241m.\u001b[39mmetadata\u001b[38;5;241m.\u001b[39mlatitude\u001b[38;5;241m.\u001b[39mval\n",
      "\u001b[0;31mNameError\u001b[0m: name 'ismn_data' is not defined"
     ]
    }
   ],
   "source": [
    "lon = ismn_data.metadata.longitude.val\n",
    "lat = ismn_data.metadata.latitude.val"
   ]
  },
  {
   "cell_type": "code",
   "execution_count": 14,
   "metadata": {},
   "outputs": [
    {
     "ename": "RuntimeError",
     "evalue": "No files found",
     "output_type": "error",
     "traceback": [
      "\u001b[0;31m---------------------------------------------------------------------------\u001b[0m",
      "\u001b[0;31mRuntimeError\u001b[0m                              Traceback (most recent call last)",
      "Cell \u001b[0;32mIn[14], line 1\u001b[0m\n\u001b[0;32m----> 1\u001b[0m h120_reader \u001b[38;5;241m=\u001b[39m \u001b[43mhsaf\u001b[49m\u001b[38;5;241;43m.\u001b[39;49m\u001b[43mAscatSsmDataRecord\u001b[49m\u001b[43m(\u001b[49m\n\u001b[1;32m      2\u001b[0m \u001b[43m    \u001b[49m\u001b[43mcell_source\u001b[49m\u001b[43m,\u001b[49m\u001b[43m \u001b[49m\u001b[43mgrid_path\u001b[49m\u001b[38;5;241;43m=\u001b[39;49m\u001b[43mgrid_path\u001b[49m\u001b[43m,\u001b[49m\u001b[43m \u001b[49m\u001b[43mstatic_layer_path\u001b[49m\u001b[38;5;241;43m=\u001b[39;49m\u001b[43mstatic_layer_path\u001b[49m\n\u001b[1;32m      3\u001b[0m \u001b[43m)\u001b[49m\n\u001b[1;32m      4\u001b[0m \u001b[38;5;28mprint\u001b[39m(h120_reader\u001b[38;5;241m.\u001b[39mpath)\n\u001b[1;32m      5\u001b[0m h120_ts \u001b[38;5;241m=\u001b[39m h120_reader\u001b[38;5;241m.\u001b[39mread(\u001b[38;5;28mfloat\u001b[39m(lon\u001b[38;5;241m.\u001b[39miloc[\u001b[38;5;241m0\u001b[39m]), \u001b[38;5;28mfloat\u001b[39m(lat\u001b[38;5;241m.\u001b[39miloc[\u001b[38;5;241m0\u001b[39m]))\n",
      "File \u001b[0;32m~/miniconda3/envs/dreo/lib/python3.10/site-packages/ascat/h_saf.py:312\u001b[0m, in \u001b[0;36mAscatSsmDataRecord.__init__\u001b[0;34m(self, cdr_path, grid_path, fn_format, grid_filename, static_layer_path, **kwargs)\u001b[0m\n\u001b[1;32m    309\u001b[0m first_file \u001b[38;5;241m=\u001b[39m glob\u001b[38;5;241m.\u001b[39mglob(os\u001b[38;5;241m.\u001b[39mpath\u001b[38;5;241m.\u001b[39mjoin(cdr_path, \u001b[38;5;124m'\u001b[39m\u001b[38;5;124m*.nc\u001b[39m\u001b[38;5;124m'\u001b[39m))\n\u001b[1;32m    311\u001b[0m \u001b[38;5;28;01mif\u001b[39;00m \u001b[38;5;28mlen\u001b[39m(first_file) \u001b[38;5;241m==\u001b[39m \u001b[38;5;241m0\u001b[39m:\n\u001b[0;32m--> 312\u001b[0m     \u001b[38;5;28;01mraise\u001b[39;00m \u001b[38;5;167;01mRuntimeError\u001b[39;00m(\u001b[38;5;124m'\u001b[39m\u001b[38;5;124mNo files found\u001b[39m\u001b[38;5;124m'\u001b[39m)\n\u001b[1;32m    314\u001b[0m version \u001b[38;5;241m=\u001b[39m os\u001b[38;5;241m.\u001b[39mpath\u001b[38;5;241m.\u001b[39mbasename(first_file[\u001b[38;5;241m0\u001b[39m])\u001b[38;5;241m.\u001b[39mrsplit(\u001b[38;5;124m'\u001b[39m\u001b[38;5;124m_\u001b[39m\u001b[38;5;124m'\u001b[39m, \u001b[38;5;241m1\u001b[39m)[\u001b[38;5;241m0\u001b[39m]\n\u001b[1;32m    315\u001b[0m fn_format \u001b[38;5;241m=\u001b[39m \u001b[38;5;124m'\u001b[39m\u001b[38;5;132;01m{:}\u001b[39;00m\u001b[38;5;124m_\u001b[39m\u001b[38;5;124m{{\u001b[39m\u001b[38;5;124m:04d}}\u001b[39m\u001b[38;5;124m'\u001b[39m\u001b[38;5;241m.\u001b[39mformat(version)\n",
      "\u001b[0;31mRuntimeError\u001b[0m: No files found"
     ]
    }
   ],
   "source": [
    "h120_reader = hsaf.AscatSsmDataRecord(\n",
    "    cell_source, grid_path=grid_path, static_layer_path=static_layer_path\n",
    ")\n",
    "print(h120_reader.path)\n",
    "h120_ts = h120_reader.read(float(lon.iloc[0]), float(lat.iloc[0]))\n",
    "h120_ts.head()"
   ]
  },
  {
   "cell_type": "code",
   "execution_count": 15,
   "metadata": {},
   "outputs": [
    {
     "ename": "NameError",
     "evalue": "name 'h120_ts' is not defined",
     "output_type": "error",
     "traceback": [
      "\u001b[0;31m---------------------------------------------------------------------------\u001b[0m",
      "\u001b[0;31mNameError\u001b[0m                                 Traceback (most recent call last)",
      "Cell \u001b[0;32mIn[15], line 3\u001b[0m\n\u001b[1;32m      1\u001b[0m \u001b[38;5;66;03m# convert all backscatter to the dry reference cross over angle of 25\u001b[39;00m\n\u001b[1;32m      2\u001b[0m sig25 \u001b[38;5;241m=\u001b[39m (\n\u001b[0;32m----> 3\u001b[0m     \u001b[43mh120_ts\u001b[49m\u001b[38;5;241m.\u001b[39msigma40\n\u001b[1;32m      4\u001b[0m     \u001b[38;5;241m+\u001b[39m h120_ts\u001b[38;5;241m.\u001b[39mslope40 \u001b[38;5;241m*\u001b[39m (\u001b[38;5;241m25\u001b[39m \u001b[38;5;241m-\u001b[39m \u001b[38;5;241m40\u001b[39m)\n\u001b[1;32m      5\u001b[0m     \u001b[38;5;241m+\u001b[39m \u001b[38;5;241m0.5\u001b[39m \u001b[38;5;241m*\u001b[39m h120_ts\u001b[38;5;241m.\u001b[39mcurvature40 \u001b[38;5;241m*\u001b[39m (\u001b[38;5;241m25\u001b[39m \u001b[38;5;241m-\u001b[39m \u001b[38;5;241m40\u001b[39m) \u001b[38;5;241m*\u001b[39m\u001b[38;5;241m*\u001b[39m \u001b[38;5;241m2.0\u001b[39m\n\u001b[1;32m      6\u001b[0m )\n\u001b[1;32m      7\u001b[0m \u001b[38;5;66;03m# get the lowest backscatter\u001b[39;00m\n\u001b[1;32m      8\u001b[0m dry_25 \u001b[38;5;241m=\u001b[39m np\u001b[38;5;241m.\u001b[39mpercentile(sig25, \u001b[38;5;241m5\u001b[39m)\n",
      "\u001b[0;31mNameError\u001b[0m: name 'h120_ts' is not defined"
     ]
    }
   ],
   "source": [
    "# convert all backscatter to the dry reference cross over angle of 25\n",
    "sig25 = (\n",
    "    h120_ts.sigma40\n",
    "    + h120_ts.slope40 * (25 - 40)\n",
    "    + 0.5 * h120_ts.curvature40 * (25 - 40) ** 2.0\n",
    ")\n",
    "# get the lowest backscatter\n",
    "dry_25 = np.percentile(sig25, 5)\n",
    "# convert to the reference angle of 40\n",
    "dry_ref = (\n",
    "    dry_25\n",
    "    - h120_ts.slope40 * (25 - 40)\n",
    "    - 0.5 * h120_ts.curvature40 * (25 - 40) ** 2\n",
    ")\n",
    "# get the wet reference\n",
    "wet_ref = np.percentile(h120_ts.sigma40, 95)\n",
    "\n",
    "# set bare soil sensitivity\n",
    "lin_bs_sens = 0.21\n",
    "\n",
    "# convert to linear domain\n",
    "lin_wet_ref = 10 ** (wet_ref / 10.0)\n",
    "lin_dry_ref = 10 ** (dry_ref / 10.0)\n",
    "\n",
    "# get total backscatter sensitivity\n",
    "lin_sens = lin_wet_ref - lin_dry_ref\n",
    "inc_angle = -np.cos(np.radians(40)) / 2.0\n",
    "# calculate vod as ratio between bare soil sensitivity and\n",
    "# total backscatter sensitivity\n",
    "# and store it in the h120 dataframe\n",
    "\n",
    "h120_ts.loc[:, \"vod\"] = inc_angle * np.log(lin_sens / lin_bs_sens)\n",
    "# show time series of VOD\n",
    "fig, ax = plt.subplots(1, 1, figsize=(15, 5))\n",
    "ax.plot(h120_ts.loc[\"2018\", \"vod\"], label=\"H120 VOD\")\n",
    "ax.set_ylabel(r\"VOD (m$^2$/m$^2$)\")\n",
    "ax.legend()\n",
    "plt.show()"
   ]
  },
  {
   "cell_type": "code",
   "execution_count": 16,
   "metadata": {},
   "outputs": [
    {
     "ename": "NameError",
     "evalue": "name 'h120_ts' is not defined",
     "output_type": "error",
     "traceback": [
      "\u001b[0;31m---------------------------------------------------------------------------\u001b[0m",
      "\u001b[0;31mNameError\u001b[0m                                 Traceback (most recent call last)",
      "Cell \u001b[0;32mIn[16], line 1\u001b[0m\n\u001b[0;32m----> 1\u001b[0m \u001b[43mh120_ts\u001b[49m\u001b[38;5;241m.\u001b[39msigma40\u001b[38;5;241m.\u001b[39mplot()\n",
      "\u001b[0;31mNameError\u001b[0m: name 'h120_ts' is not defined"
     ]
    }
   ],
   "source": [
    "h120_ts.sigma40.plot()"
   ]
  },
  {
   "cell_type": "markdown",
   "metadata": {},
   "source": [
    "## Read H120 - Metop ASCAT SSM CDR 12.5 km sampling\n",
    "We need to initialize the reader, where we need to set the paths of the data, the grid file and the static layers. \n",
    "\n",
    "Then the data can be read using either longitude and latitude or per gridpoint. You can find the grid of the H120 product here: \n",
    "http://rs.geo.tuwien.ac.at/dv/dgg/\n",
    "\n",
    "The hsaf package automatically reads the data as a pandas dataframe. Now you can use the full functionality of pandas to do a first analysis of your dataset. \n",
    "You can have a quick look at the data by using the .head() function, showing you the data structure. For the meaning of the different columns have a look at the Product User Manual: http://hsaf.meteoam.it/documents/PUM/ASCAT_SSM_CDR_PUM_v0.8.pdf\n",
    "Most important for getting to know the dataset are the columns 'sm'. "
   ]
  },
  {
   "cell_type": "code",
   "execution_count": 17,
   "metadata": {},
   "outputs": [
    {
     "name": "stderr",
     "output_type": "stream",
     "text": [
      "/home/npikall/miniconda3/envs/dreo/lib/python3.10/site-packages/ascat/read_native/ragged_array_ts.py:945: UserWarning: Could not determine date range for collection 'ascat_ssm_cdr_12' from directory name. Using min/max datetime from files instead.\n",
      "  warnings.warn(\n"
     ]
    }
   ],
   "source": [
    "cell_collection = rat.CellFileCollection.from_product_id(\n",
    "    cell_source, \"H121_V1.0\"\n",
    ")"
   ]
  },
  {
   "cell_type": "markdown",
   "metadata": {},
   "source": [
    "Let's read the data and plot."
   ]
  },
  {
   "cell_type": "code",
   "execution_count": 18,
   "metadata": {},
   "outputs": [
    {
     "ename": "RuntimeError",
     "evalue": "No files found",
     "output_type": "error",
     "traceback": [
      "\u001b[0;31m---------------------------------------------------------------------------\u001b[0m",
      "\u001b[0;31mRuntimeError\u001b[0m                              Traceback (most recent call last)",
      "Cell \u001b[0;32mIn[18], line 1\u001b[0m\n\u001b[0;32m----> 1\u001b[0m h120_reader \u001b[38;5;241m=\u001b[39m \u001b[43mhsaf\u001b[49m\u001b[38;5;241;43m.\u001b[39;49m\u001b[43mAscatSsmDataRecord\u001b[49m\u001b[43m(\u001b[49m\n\u001b[1;32m      2\u001b[0m \u001b[43m    \u001b[49m\u001b[43mcell_source\u001b[49m\u001b[43m,\u001b[49m\u001b[43m \u001b[49m\u001b[43mgrid_path\u001b[49m\u001b[38;5;241;43m=\u001b[39;49m\u001b[43mgrid_path\u001b[49m\u001b[43m,\u001b[49m\u001b[43m \u001b[49m\u001b[43mstatic_layer_path\u001b[49m\u001b[38;5;241;43m=\u001b[39;49m\u001b[43mstatic_layer_path\u001b[49m\n\u001b[1;32m      3\u001b[0m \u001b[43m)\u001b[49m\n\u001b[1;32m      4\u001b[0m \u001b[38;5;28mprint\u001b[39m(h120_reader\u001b[38;5;241m.\u001b[39mpath)\n\u001b[1;32m      5\u001b[0m h120_ts \u001b[38;5;241m=\u001b[39m h120_reader\u001b[38;5;241m.\u001b[39mread(\u001b[38;5;28mfloat\u001b[39m(lon\u001b[38;5;241m.\u001b[39miloc[\u001b[38;5;241m0\u001b[39m]), \u001b[38;5;28mfloat\u001b[39m(lat\u001b[38;5;241m.\u001b[39miloc[\u001b[38;5;241m0\u001b[39m]))\n",
      "File \u001b[0;32m~/miniconda3/envs/dreo/lib/python3.10/site-packages/ascat/h_saf.py:312\u001b[0m, in \u001b[0;36mAscatSsmDataRecord.__init__\u001b[0;34m(self, cdr_path, grid_path, fn_format, grid_filename, static_layer_path, **kwargs)\u001b[0m\n\u001b[1;32m    309\u001b[0m first_file \u001b[38;5;241m=\u001b[39m glob\u001b[38;5;241m.\u001b[39mglob(os\u001b[38;5;241m.\u001b[39mpath\u001b[38;5;241m.\u001b[39mjoin(cdr_path, \u001b[38;5;124m'\u001b[39m\u001b[38;5;124m*.nc\u001b[39m\u001b[38;5;124m'\u001b[39m))\n\u001b[1;32m    311\u001b[0m \u001b[38;5;28;01mif\u001b[39;00m \u001b[38;5;28mlen\u001b[39m(first_file) \u001b[38;5;241m==\u001b[39m \u001b[38;5;241m0\u001b[39m:\n\u001b[0;32m--> 312\u001b[0m     \u001b[38;5;28;01mraise\u001b[39;00m \u001b[38;5;167;01mRuntimeError\u001b[39;00m(\u001b[38;5;124m'\u001b[39m\u001b[38;5;124mNo files found\u001b[39m\u001b[38;5;124m'\u001b[39m)\n\u001b[1;32m    314\u001b[0m version \u001b[38;5;241m=\u001b[39m os\u001b[38;5;241m.\u001b[39mpath\u001b[38;5;241m.\u001b[39mbasename(first_file[\u001b[38;5;241m0\u001b[39m])\u001b[38;5;241m.\u001b[39mrsplit(\u001b[38;5;124m'\u001b[39m\u001b[38;5;124m_\u001b[39m\u001b[38;5;124m'\u001b[39m, \u001b[38;5;241m1\u001b[39m)[\u001b[38;5;241m0\u001b[39m]\n\u001b[1;32m    315\u001b[0m fn_format \u001b[38;5;241m=\u001b[39m \u001b[38;5;124m'\u001b[39m\u001b[38;5;132;01m{:}\u001b[39;00m\u001b[38;5;124m_\u001b[39m\u001b[38;5;124m{{\u001b[39m\u001b[38;5;124m:04d}}\u001b[39m\u001b[38;5;124m'\u001b[39m\u001b[38;5;241m.\u001b[39mformat(version)\n",
      "\u001b[0;31mRuntimeError\u001b[0m: No files found"
     ]
    }
   ],
   "source": [
    "h120_reader = hsaf.AscatSsmDataRecord(\n",
    "    cell_source, grid_path=grid_path, static_layer_path=static_layer_path\n",
    ")\n",
    "print(h120_reader.path)\n",
    "h120_ts = h120_reader.read(float(lon.iloc[0]), float(lat.iloc[0]))\n",
    "h120_ts.head()"
   ]
  },
  {
   "cell_type": "code",
   "execution_count": 19,
   "metadata": {},
   "outputs": [
    {
     "ename": "NameError",
     "evalue": "name 'lon' is not defined",
     "output_type": "error",
     "traceback": [
      "\u001b[0;31m---------------------------------------------------------------------------\u001b[0m",
      "\u001b[0;31mNameError\u001b[0m                                 Traceback (most recent call last)",
      "Cell \u001b[0;32mIn[19], line 2\u001b[0m\n\u001b[1;32m      1\u001b[0m h120_ds \u001b[38;5;241m=\u001b[39m cell_collection\u001b[38;5;241m.\u001b[39mread(\n\u001b[0;32m----> 2\u001b[0m     coords\u001b[38;5;241m=\u001b[39m(\u001b[38;5;28mfloat\u001b[39m(\u001b[43mlon\u001b[49m\u001b[38;5;241m.\u001b[39miloc[\u001b[38;5;241m0\u001b[39m]), \u001b[38;5;28mfloat\u001b[39m(lat\u001b[38;5;241m.\u001b[39miloc[\u001b[38;5;241m0\u001b[39m]))\n\u001b[1;32m      3\u001b[0m )\u001b[38;5;241m.\u001b[39mswap_dims({\u001b[38;5;124m\"\u001b[39m\u001b[38;5;124mobs\u001b[39m\u001b[38;5;124m\"\u001b[39m: \u001b[38;5;124m\"\u001b[39m\u001b[38;5;124mtime\u001b[39m\u001b[38;5;124m\"\u001b[39m})\n\u001b[1;32m      4\u001b[0m h120_ds\n",
      "\u001b[0;31mNameError\u001b[0m: name 'lon' is not defined"
     ]
    }
   ],
   "source": [
    "h120_ds = cell_collection.read(\n",
    "    coords=(float(lon.iloc[0]), float(lat.iloc[0]))\n",
    ").swap_dims({\"obs\": \"time\"})\n",
    "h120_ds"
   ]
  },
  {
   "cell_type": "markdown",
   "metadata": {},
   "source": [
    "Let's plot all availalble data for this station's location."
   ]
  },
  {
   "cell_type": "code",
   "execution_count": 20,
   "metadata": {},
   "outputs": [
    {
     "ename": "NameError",
     "evalue": "name 'h120_ds' is not defined",
     "output_type": "error",
     "traceback": [
      "\u001b[0;31m---------------------------------------------------------------------------\u001b[0m",
      "\u001b[0;31mNameError\u001b[0m                                 Traceback (most recent call last)",
      "Cell \u001b[0;32mIn[20], line 1\u001b[0m\n\u001b[0;32m----> 1\u001b[0m \u001b[43mh120_ds\u001b[49m\u001b[38;5;241m.\u001b[39msurface_soil_moisture\u001b[38;5;241m.\u001b[39mplot(figsize\u001b[38;5;241m=\u001b[39m(\u001b[38;5;241m10\u001b[39m, \u001b[38;5;241m5\u001b[39m))\n",
      "\u001b[0;31mNameError\u001b[0m: name 'h120_ds' is not defined"
     ]
    }
   ],
   "source": [
    "h120_ds.surface_soil_moisture.plot(figsize=(10, 5))"
   ]
  },
  {
   "cell_type": "markdown",
   "metadata": {},
   "source": [
    "## Plot H120 Soil Moisture data\n",
    "Now that we have loaded the data we can have a first look at the time series.Soil moisture is available as percentage saturation. If you wish to calculate absolute soil moisture values, a possibility is to multiply the soil moisture data with the porosity value which is stored. "
   ]
  },
  {
   "cell_type": "code",
   "execution_count": 21,
   "metadata": {},
   "outputs": [
    {
     "ename": "NameError",
     "evalue": "name 'h120_ds' is not defined",
     "output_type": "error",
     "traceback": [
      "\u001b[0;31m---------------------------------------------------------------------------\u001b[0m",
      "\u001b[0;31mNameError\u001b[0m                                 Traceback (most recent call last)",
      "Cell \u001b[0;32mIn[21], line 3\u001b[0m\n\u001b[1;32m      1\u001b[0m \u001b[38;5;66;03m# show complete time series\u001b[39;00m\n\u001b[1;32m      2\u001b[0m fig, ax \u001b[38;5;241m=\u001b[39m plt\u001b[38;5;241m.\u001b[39msubplots(\u001b[38;5;241m1\u001b[39m, \u001b[38;5;241m1\u001b[39m, figsize\u001b[38;5;241m=\u001b[39m(\u001b[38;5;241m15\u001b[39m, \u001b[38;5;241m5\u001b[39m))\n\u001b[0;32m----> 3\u001b[0m ax\u001b[38;5;241m.\u001b[39mplot(\u001b[43mh120_ds\u001b[49m\u001b[38;5;241m.\u001b[39msurface_soil_moisture, label\u001b[38;5;241m=\u001b[39m\u001b[38;5;124m\"\u001b[39m\u001b[38;5;124mH120 SSM\u001b[39m\u001b[38;5;124m\"\u001b[39m)\n\u001b[1;32m      4\u001b[0m ax\u001b[38;5;241m.\u001b[39mset_ylabel(\u001b[38;5;124m\"\u001b[39m\u001b[38;5;124mDegree of Saturation (\u001b[39m\u001b[38;5;124m%\u001b[39m\u001b[38;5;124m)\u001b[39m\u001b[38;5;124m\"\u001b[39m)\n\u001b[1;32m      5\u001b[0m ax\u001b[38;5;241m.\u001b[39mlegend()\n",
      "\u001b[0;31mNameError\u001b[0m: name 'h120_ds' is not defined"
     ]
    },
    {
     "data": {
      "image/png": "[encoded data removed]",
      "text/plain": [
       "<Figure size 1500x500 with 1 Axes>"
      ]
     },
     "metadata": {},
     "output_type": "display_data"
    }
   ],
   "source": [
    "# show complete time series\n",
    "fig, ax = plt.subplots(1, 1, figsize=(15, 5))\n",
    "ax.plot(h120_ds.surface_soil_moisture, label=\"H120 SSM\")\n",
    "ax.set_ylabel(\"Degree of Saturation (%)\")\n",
    "ax.legend()\n",
    "plt.show()"
   ]
  },
  {
   "cell_type": "code",
   "execution_count": 22,
   "metadata": {},
   "outputs": [
    {
     "ename": "NameError",
     "evalue": "name 'h120_ds' is not defined",
     "output_type": "error",
     "traceback": [
      "\u001b[0;31m---------------------------------------------------------------------------\u001b[0m",
      "\u001b[0;31mNameError\u001b[0m                                 Traceback (most recent call last)",
      "Cell \u001b[0;32mIn[22], line 3\u001b[0m\n\u001b[1;32m      1\u001b[0m \u001b[38;5;66;03m# Show time series subset\u001b[39;00m\n\u001b[0;32m----> 3\u001b[0m h120_ds_filtered \u001b[38;5;241m=\u001b[39m \u001b[43mh120_ds\u001b[49m\u001b[38;5;241m.\u001b[39msel(time\u001b[38;5;241m=\u001b[39m\u001b[38;5;28mslice\u001b[39m(\u001b[38;5;124m\"\u001b[39m\u001b[38;5;124m2018-01-01\u001b[39m\u001b[38;5;124m\"\u001b[39m, \u001b[38;5;124m\"\u001b[39m\u001b[38;5;124m2018-12-31\u001b[39m\u001b[38;5;124m\"\u001b[39m))\n\u001b[1;32m      5\u001b[0m fig, ax \u001b[38;5;241m=\u001b[39m plt\u001b[38;5;241m.\u001b[39msubplots(\u001b[38;5;241m1\u001b[39m, \u001b[38;5;241m1\u001b[39m, figsize\u001b[38;5;241m=\u001b[39m(\u001b[38;5;241m15\u001b[39m, \u001b[38;5;241m5\u001b[39m))\n\u001b[1;32m      6\u001b[0m ax\u001b[38;5;241m.\u001b[39mplot(h120_ds_filtered\u001b[38;5;241m.\u001b[39msurface_soil_moisture, label\u001b[38;5;241m=\u001b[39m\u001b[38;5;124m\"\u001b[39m\u001b[38;5;124mH120 SSM\u001b[39m\u001b[38;5;124m\"\u001b[39m)\n",
      "\u001b[0;31mNameError\u001b[0m: name 'h120_ds' is not defined"
     ]
    }
   ],
   "source": [
    "# Show time series subset\n",
    "\n",
    "h120_ds_filtered = h120_ds.sel(time=slice(\"2018-01-01\", \"2018-12-31\"))\n",
    "\n",
    "fig, ax = plt.subplots(1, 1, figsize=(15, 5))\n",
    "ax.plot(h120_ds_filtered.surface_soil_moisture, label=\"H120 SSM\")\n",
    "ax.set_ylabel(\"Degree of Saturation (%)\")\n",
    "ax.legend()\n",
    "plt.show()"
   ]
  },
  {
   "cell_type": "markdown",
   "metadata": {},
   "source": [
    "As discussed in the live session, soil moisture is affected by snow cover and frozen soils. We can see this in the subset of 2018, where a clear drop in soil moisture is visible in March, which is not likely due to changes in soil moisture. \n",
    "Hence we mask for frozen soils and snow cover using the probability mask. Please note, this is not the same as masking using in situ data or model data, but only a probability of that these conditions occur."
   ]
  },
  {
   "cell_type": "markdown",
   "metadata": {},
   "source": [
    "## Calculate VOD for exercise 2\n",
    "In exercise 2 you will need an estimate for TAU or the so-called VOD. TAU can be calculated from Metop ASCAT observables and this is done in the code below. VOD is written to the data frame of the ASCAT data, and when you temporally match the data with the ISMN data then you can store the dataframe including VOD.  "
   ]
  },
  {
   "cell_type": "code",
   "execution_count": 23,
   "metadata": {},
   "outputs": [
    {
     "ename": "NameError",
     "evalue": "name 'h120_ds' is not defined",
     "output_type": "error",
     "traceback": [
      "\u001b[0;31m---------------------------------------------------------------------------\u001b[0m",
      "\u001b[0;31mNameError\u001b[0m                                 Traceback (most recent call last)",
      "Cell \u001b[0;32mIn[23], line 3\u001b[0m\n\u001b[1;32m      1\u001b[0m \u001b[38;5;66;03m# Convert all backscatter to the dry reference cross over angle of 25 degrees\u001b[39;00m\n\u001b[1;32m      2\u001b[0m sig25 \u001b[38;5;241m=\u001b[39m (\n\u001b[0;32m----> 3\u001b[0m     \u001b[43mh120_ds\u001b[49m\u001b[38;5;241m.\u001b[39mbackscatter40\n\u001b[1;32m      4\u001b[0m     \u001b[38;5;241m+\u001b[39m h120_ds\u001b[38;5;241m.\u001b[39mslope40 \u001b[38;5;241m*\u001b[39m (\u001b[38;5;241m25\u001b[39m \u001b[38;5;241m-\u001b[39m \u001b[38;5;241m40\u001b[39m)\n\u001b[1;32m      5\u001b[0m     \u001b[38;5;241m+\u001b[39m \u001b[38;5;241m0.5\u001b[39m \u001b[38;5;241m*\u001b[39m h120_ds\u001b[38;5;241m.\u001b[39mcurvature40 \u001b[38;5;241m*\u001b[39m (\u001b[38;5;241m25\u001b[39m \u001b[38;5;241m-\u001b[39m \u001b[38;5;241m40\u001b[39m) \u001b[38;5;241m*\u001b[39m\u001b[38;5;241m*\u001b[39m \u001b[38;5;241m2.0\u001b[39m\n\u001b[1;32m      6\u001b[0m )\n\u001b[1;32m      8\u001b[0m \u001b[38;5;66;03m# Get the lowest backscatter (1% in this case)\u001b[39;00m\n\u001b[1;32m      9\u001b[0m dry_25 \u001b[38;5;241m=\u001b[39m sig25\u001b[38;5;241m.\u001b[39mquantile(\u001b[38;5;241m0.01\u001b[39m, dim\u001b[38;5;241m=\u001b[39m\u001b[38;5;124m\"\u001b[39m\u001b[38;5;124mtime\u001b[39m\u001b[38;5;124m\"\u001b[39m)\n",
      "\u001b[0;31mNameError\u001b[0m: name 'h120_ds' is not defined"
     ]
    }
   ],
   "source": [
    "# Convert all backscatter to the dry reference cross over angle of 25 degrees\n",
    "sig25 = (\n",
    "    h120_ds.backscatter40\n",
    "    + h120_ds.slope40 * (25 - 40)\n",
    "    + 0.5 * h120_ds.curvature40 * (25 - 40) ** 2.0\n",
    ")\n",
    "\n",
    "# Get the lowest backscatter (1% in this case)\n",
    "dry_25 = sig25.quantile(0.01, dim=\"time\")\n",
    "\n",
    "# Convert to the reference angle of 40 degrees\n",
    "dry_ref = (\n",
    "    dry_25\n",
    "    - h120_ds.slope40 * (25 - 40)\n",
    "    - 0.5 * h120_ds.curvature40 * (25 - 40) ** 2\n",
    ")\n",
    "\n",
    "# Get the wet reference\n",
    "wet_ref = h120_ds.backscatter40.quantile(0.05, dim=\"time\")\n",
    "\n",
    "# Set bare soil sensitivity\n",
    "lin_bs_sens = 0.21\n",
    "\n",
    "# Convert to linear domain\n",
    "lin_wet_ref = 10 ** (wet_ref / 10.0)\n",
    "lin_dry_ref = 10 ** (dry_ref / 10.0)\n",
    "\n",
    "# Get total backscatter sensitivity\n",
    "lin_sens = lin_wet_ref - lin_dry_ref\n",
    "inc_angle = -np.cos(np.radians(40)) / 2.0\n",
    "\n",
    "# Calculate vod as ratio between bare soil sensitivity\n",
    "# and total backscatter sensitivity and store it in the h120 xarray\n",
    "h120_ds[\"vod\"] = inc_angle * np.log(lin_sens / lin_bs_sens)\n",
    "\n",
    "fig, ax = plt.subplots(1, 1, figsize=(15, 5))\n",
    "ax.plot(\n",
    "    h120_ds.sel(time=slice(\"2018-01-01\", \"2018-12-31\")).vod, label=\"H120 VOD\"\n",
    ")\n",
    "ax.set_ylabel(r\"VOD (m$^2$/m$^2$)\")\n",
    "ax.legend()\n",
    "plt.show()"
   ]
  },
  {
   "cell_type": "markdown",
   "metadata": {},
   "source": [
    "## Temporal matching\n",
    "The data of the in situ station and the satellite observations do not match, e.g. the satellite data is available from 2007 to 2022, the in situ station only since 2014 in my case, the observation times are different with satellite observation irregular between 6 and 10 AM/PM and the in situ data at hourly intervals. So these two datasets need to be matched in time in order to have the same amount of observations. Here it is best practice to match to the most sparse dataset, in our case the ASCAT data."
   ]
  },
  {
   "cell_type": "code",
   "execution_count": 24,
   "metadata": {},
   "outputs": [
    {
     "ename": "NameError",
     "evalue": "name 'h120_ds' is not defined",
     "output_type": "error",
     "traceback": [
      "\u001b[0;31m---------------------------------------------------------------------------\u001b[0m",
      "\u001b[0;31mNameError\u001b[0m                                 Traceback (most recent call last)",
      "Cell \u001b[0;32mIn[24], line 1\u001b[0m\n\u001b[0;32m----> 1\u001b[0m h120_interp \u001b[38;5;241m=\u001b[39m \u001b[43mh120_ds\u001b[49m\u001b[38;5;241m.\u001b[39minterp(time\u001b[38;5;241m=\u001b[39minsitu_ds\u001b[38;5;241m.\u001b[39mdate_time, method\u001b[38;5;241m=\u001b[39m\u001b[38;5;124m\"\u001b[39m\u001b[38;5;124mlinear\u001b[39m\u001b[38;5;124m\"\u001b[39m)\n\u001b[1;32m      3\u001b[0m plt\u001b[38;5;241m.\u001b[39mfigure(figsize\u001b[38;5;241m=\u001b[39m(\u001b[38;5;241m10\u001b[39m, \u001b[38;5;241m5\u001b[39m))\n\u001b[1;32m      5\u001b[0m insitu_ds\u001b[38;5;241m.\u001b[39msoil_moisture\u001b[38;5;241m.\u001b[39mplot(label\u001b[38;5;241m=\u001b[39m\u001b[38;5;124m\"\u001b[39m\u001b[38;5;124mIn-Situ\u001b[39m\u001b[38;5;124m\"\u001b[39m)\n",
      "\u001b[0;31mNameError\u001b[0m: name 'h120_ds' is not defined"
     ]
    }
   ],
   "source": [
    "h120_interp = h120_ds.interp(time=insitu_ds.date_time, method=\"linear\")\n",
    "\n",
    "plt.figure(figsize=(10, 5))\n",
    "\n",
    "insitu_ds.soil_moisture.plot(label=\"In-Situ\")\n",
    "\n",
    "plt.plot(\n",
    "    h120_interp.date_time,\n",
    "    h120_interp.surface_soil_moisture / 100,\n",
    "    label=\"ASCAT\",\n",
    ")\n",
    "\n",
    "plt.xlabel(\"Time\")\n",
    "plt.ylabel(\"Soil Moisture\")\n",
    "plt.legend()\n",
    "plt.title(\"Interpolated ASCAT vs. In-Situ Soil Moisture\")\n",
    "plt.grid()\n",
    "plt.show()"
   ]
  },
  {
   "cell_type": "code",
   "execution_count": 25,
   "metadata": {},
   "outputs": [
    {
     "ename": "NameError",
     "evalue": "name 'insitu_ds' is not defined",
     "output_type": "error",
     "traceback": [
      "\u001b[0;31m---------------------------------------------------------------------------\u001b[0m",
      "\u001b[0;31mNameError\u001b[0m                                 Traceback (most recent call last)",
      "Cell \u001b[0;32mIn[25], line 2\u001b[0m\n\u001b[1;32m      1\u001b[0m \u001b[38;5;66;03m# Find common date range\u001b[39;00m\n\u001b[0;32m----> 2\u001b[0m start_date \u001b[38;5;241m=\u001b[39m \u001b[38;5;28mmax\u001b[39m(\u001b[43minsitu_ds\u001b[49m\u001b[38;5;241m.\u001b[39mdate_time\u001b[38;5;241m.\u001b[39mmin(), h120_ds\u001b[38;5;241m.\u001b[39mtime\u001b[38;5;241m.\u001b[39mmin())\n\u001b[1;32m      3\u001b[0m end_date \u001b[38;5;241m=\u001b[39m \u001b[38;5;28mmin\u001b[39m(insitu_ds\u001b[38;5;241m.\u001b[39mdate_time\u001b[38;5;241m.\u001b[39mmax(), h120_ds\u001b[38;5;241m.\u001b[39mtime\u001b[38;5;241m.\u001b[39mmax())\n\u001b[1;32m      5\u001b[0m \u001b[38;5;66;03m# Clip datasets to this range\u001b[39;00m\n",
      "\u001b[0;31mNameError\u001b[0m: name 'insitu_ds' is not defined"
     ]
    }
   ],
   "source": [
    "# Find common date range\n",
    "start_date = max(insitu_ds.date_time.min(), h120_ds.time.min())\n",
    "end_date = min(insitu_ds.date_time.max(), h120_ds.time.max())\n",
    "\n",
    "# Clip datasets to this range\n",
    "insitu_ds_clipped = insitu_ds.sel(date_time=slice(start_date, end_date))\n",
    "h120_interp_clipped = h120_interp.sel(date_time=slice(start_date, end_date))"
   ]
  },
  {
   "cell_type": "code",
   "execution_count": 26,
   "metadata": {},
   "outputs": [
    {
     "ename": "NameError",
     "evalue": "name 'insitu_ds_clipped' is not defined",
     "output_type": "error",
     "traceback": [
      "\u001b[0;31m---------------------------------------------------------------------------\u001b[0m",
      "\u001b[0;31mNameError\u001b[0m                                 Traceback (most recent call last)",
      "Cell \u001b[0;32mIn[26], line 6\u001b[0m\n\u001b[1;32m      2\u001b[0m fig, ax1 \u001b[38;5;241m=\u001b[39m plt\u001b[38;5;241m.\u001b[39msubplots(figsize\u001b[38;5;241m=\u001b[39m(\u001b[38;5;241m14\u001b[39m, \u001b[38;5;241m6\u001b[39m))\n\u001b[1;32m      4\u001b[0m \u001b[38;5;66;03m# In-Situ Soil Moisture in m³/m³\u001b[39;00m\n\u001b[1;32m      5\u001b[0m lns1 \u001b[38;5;241m=\u001b[39m ax1\u001b[38;5;241m.\u001b[39mplot(\n\u001b[0;32m----> 6\u001b[0m     \u001b[43minsitu_ds_clipped\u001b[49m\u001b[38;5;241m.\u001b[39mdate_time,\n\u001b[1;32m      7\u001b[0m     insitu_ds_clipped\u001b[38;5;241m.\u001b[39msoil_moisture,\n\u001b[1;32m      8\u001b[0m     label\u001b[38;5;241m=\u001b[39m\u001b[38;5;124m\"\u001b[39m\u001b[38;5;124mIn-Situ SM (m³/m³)\u001b[39m\u001b[38;5;124m\"\u001b[39m,\n\u001b[1;32m      9\u001b[0m     color\u001b[38;5;241m=\u001b[39m\u001b[38;5;124m\"\u001b[39m\u001b[38;5;124mmidnightblue\u001b[39m\u001b[38;5;124m\"\u001b[39m,\n\u001b[1;32m     10\u001b[0m     marker\u001b[38;5;241m=\u001b[39m\u001b[38;5;124m\"\u001b[39m\u001b[38;5;124mo\u001b[39m\u001b[38;5;124m\"\u001b[39m,\n\u001b[1;32m     11\u001b[0m     markersize\u001b[38;5;241m=\u001b[39m\u001b[38;5;241m4\u001b[39m,\n\u001b[1;32m     12\u001b[0m     linestyle\u001b[38;5;241m=\u001b[39m\u001b[38;5;124m\"\u001b[39m\u001b[38;5;124m--\u001b[39m\u001b[38;5;124m\"\u001b[39m,\n\u001b[1;32m     13\u001b[0m )\n\u001b[1;32m     14\u001b[0m ax1\u001b[38;5;241m.\u001b[39mset_xlabel(\u001b[38;5;124m\"\u001b[39m\u001b[38;5;124mTime\u001b[39m\u001b[38;5;124m\"\u001b[39m)\n\u001b[1;32m     15\u001b[0m ax1\u001b[38;5;241m.\u001b[39mset_ylabel(\u001b[38;5;124mr\u001b[39m\u001b[38;5;124m\"\u001b[39m\u001b[38;5;124mIn-Situ SM (m$^3$/m$^3$)\u001b[39m\u001b[38;5;124m\"\u001b[39m, color\u001b[38;5;241m=\u001b[39m\u001b[38;5;124m\"\u001b[39m\u001b[38;5;124mmidnightblue\u001b[39m\u001b[38;5;124m\"\u001b[39m)\n",
      "\u001b[0;31mNameError\u001b[0m: name 'insitu_ds_clipped' is not defined"
     ]
    },
    {
     "data": {
      "text/plain": [
       "<Figure size 1400x400 with 0 Axes>"
      ]
     },
     "metadata": {},
     "output_type": "display_data"
    },
    {
     "data": {
      "image/png": "[encoded data removed]",
      "text/plain": [
       "<Figure size 1400x600 with 1 Axes>"
      ]
     },
     "metadata": {},
     "output_type": "display_data"
    }
   ],
   "source": [
    "plt.figure(figsize=(14, 4))\n",
    "fig, ax1 = plt.subplots(figsize=(14, 6))\n",
    "\n",
    "# In-Situ Soil Moisture in m³/m³\n",
    "lns1 = ax1.plot(\n",
    "    insitu_ds_clipped.date_time,\n",
    "    insitu_ds_clipped.soil_moisture,\n",
    "    label=\"In-Situ SM (m³/m³)\",\n",
    "    color=\"midnightblue\",\n",
    "    marker=\"o\",\n",
    "    markersize=4,\n",
    "    linestyle=\"--\",\n",
    ")\n",
    "ax1.set_xlabel(\"Time\")\n",
    "ax1.set_ylabel(r\"In-Situ SM (m$^3$/m$^3$)\", color=\"midnightblue\")\n",
    "ax1.tick_params(axis=\"y\", labelcolor=\"midnightblue\")\n",
    "\n",
    "# ASCAT Soil Moisture in % Degree of Saturation\n",
    "ax2 = ax1.twinx()\n",
    "lns2 = ax2.plot(\n",
    "    h120_interp.date_time,\n",
    "    h120_interp.surface_soil_moisture,\n",
    "    label=\"ASCAT SM (Degree of Saturation %)\",\n",
    "    color=\"seagreen\",\n",
    "    linestyle=\"-\",\n",
    "    alpha=0.7,\n",
    ")\n",
    "ax2.set_ylabel(\"ASCAT SM (Degree of Saturation %)\", color=\"seagreen\")\n",
    "ax2.tick_params(axis=\"y\", labelcolor=\"seagreen\")\n",
    "\n",
    "# Combine Legends from Both Axes\n",
    "lns = lns1 + lns2\n",
    "labels = [elem.get_label() for elem in lns]\n",
    "ax1.legend(lns, labels, loc=\"upper left\")\n",
    "\n",
    "plt.title(\"Interpolated ASCAT vs. In-Situ Soil Moisture\")\n",
    "plt.grid()\n",
    "plt.show()"
   ]
  },
  {
   "cell_type": "markdown",
   "metadata": {},
   "source": [
    "Keep in mind that all variables are now in one dataset, where soil_moisture stands for in situ data, while sm for ASCAT data. Therefore, we should rename variables for convenience."
   ]
  },
  {
   "cell_type": "code",
   "execution_count": 27,
   "metadata": {},
   "outputs": [
    {
     "ename": "NameError",
     "evalue": "name 'insitu_ds' is not defined",
     "output_type": "error",
     "traceback": [
      "\u001b[0;31m---------------------------------------------------------------------------\u001b[0m",
      "\u001b[0;31mNameError\u001b[0m                                 Traceback (most recent call last)",
      "Cell \u001b[0;32mIn[27], line 1\u001b[0m\n\u001b[0;32m----> 1\u001b[0m merged_ds \u001b[38;5;241m=\u001b[39m xr\u001b[38;5;241m.\u001b[39mmerge([\u001b[43minsitu_ds\u001b[49m\u001b[38;5;241m.\u001b[39msqueeze(), h120_interp])\u001b[38;5;241m.\u001b[39mrename(\n\u001b[1;32m      2\u001b[0m     {\u001b[38;5;124m\"\u001b[39m\u001b[38;5;124msoil_moisture\u001b[39m\u001b[38;5;124m\"\u001b[39m: \u001b[38;5;124m\"\u001b[39m\u001b[38;5;124mSM_insitu\u001b[39m\u001b[38;5;124m\"\u001b[39m, \u001b[38;5;124m\"\u001b[39m\u001b[38;5;124msurface_soil_moisture\u001b[39m\u001b[38;5;124m\"\u001b[39m: \u001b[38;5;124m\"\u001b[39m\u001b[38;5;124mSM_ascat\u001b[39m\u001b[38;5;124m\"\u001b[39m}\n\u001b[1;32m      3\u001b[0m )\n\u001b[1;32m      4\u001b[0m merged_ds\n",
      "\u001b[0;31mNameError\u001b[0m: name 'insitu_ds' is not defined"
     ]
    }
   ],
   "source": [
    "merged_ds = xr.merge([insitu_ds.squeeze(), h120_interp]).rename(\n",
    "    {\"soil_moisture\": \"SM_insitu\", \"surface_soil_moisture\": \"SM_ascat\"}\n",
    ")\n",
    "merged_ds"
   ]
  },
  {
   "cell_type": "markdown",
   "metadata": {},
   "source": [
    "Lets save the data to load it for other notebooks. The most convenient format is zarr."
   ]
  },
  {
   "cell_type": "code",
   "execution_count": null,
   "metadata": {},
   "outputs": [],
   "source": [
    "merged_ds.to_zarr(\"merged_soilmoisture_vod.zarr\", mode=\"w\")"
   ]
  },
  {
   "cell_type": "markdown",
   "metadata": {},
   "source": [
    "## Exercise\n",
    "To complete the exercise, please locate an ISMN station of your interest, download the ISMN data, read in the data using the longitude and latitude. Do a temporal matching of the data and plot the time series as shown below and upload this to the Padlet with a description and first interpretation. If necessary, save your matched dataframe (see below) so you have it ready for the other exercises."
   ]
  },
  {
   "cell_type": "code",
   "execution_count": null,
   "metadata": {},
   "outputs": [],
   "source": []
  }
 ],
 "metadata": {
  "kernelspec": {
   "display_name": "dreo",
   "language": "python",
   "name": "python3"
  },
  "language_info": {
   "codemirror_mode": {
    "name": "ipython",
    "version": 3
   },
   "file_extension": ".py",
   "mimetype": "text/x-python",
   "name": "python",
   "nbconvert_exporter": "python",
   "pygments_lexer": "ipython3",
   "version": "3.10.16"
  }
 },
 "nbformat": 4,
 "nbformat_minor": 4
}
