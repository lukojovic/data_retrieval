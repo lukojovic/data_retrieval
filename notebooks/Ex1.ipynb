{
 "cells": [
  {
   "cell_type": "markdown",
   "metadata": {},
   "source": [
    "# Exercise 1 - Download, read and visualize H-SAF ASCAT SSM CDR and ISMN data\n",
    "\n",
    "## Importing packages\n",
    "Here we first import the python packages which we will need throughout this exercise. Don't worry about the warnings. "
   ]
  },
  {
   "cell_type": "code",
   "execution_count": null,
   "metadata": {},
   "outputs": [],
   "source": [
    "from pathlib import Path\n",
    "\n",
    "import ascat.h_saf as hsaf  # Package for reading hsaf data\n",
    "import ascat.read_native.ragged_array_ts as rat\n",
    "import matplotlib.pyplot as plt  # Plotting library\n",
    "import numpy as np\n",
    "import pandas as pd  # noqa\n",
    "import xarray as xr\n",
    "from ismn.interface import ISMN_Interface  # Package for reading ISMN data"
   ]
  },
  {
   "cell_type": "markdown",
   "metadata": {},
   "source": [
    "## Set paths for data\n",
    "Here we need to set the paths to where the data is stored. If you have stored all the data to the same folder, you will only need to change the path_test_data variable to your data folder. "
   ]
  },
  {
   "cell_type": "code",
   "execution_count": null,
   "metadata": {},
   "outputs": [],
   "source": [
    "# Set the root path to the data\n",
    "root = Path(\"~/Desktop/Data Retrieval in Earth Observation\").expanduser()\n",
    "sync_path = Path(\"~/shares/radar/DataLab/sync_with_datalab\").expanduser()\n",
    "\n",
    "path_test_data = root / \"Data\"\n",
    "\n",
    "# Paths to the different datasets\n",
    "h120_path = path_test_data / \"hsaf\"\n",
    "static_layer_path = path_test_data / \"static_layer\"\n",
    "grid_path = path_test_data / \"warp5_grid\"\n",
    "ismn_path = root / \"ismn\"\n",
    "\n",
    "cell_source = sync_path / \"datasets/scat_ard/ascat_ssm_cdr_12.5km_h121\"\n",
    "fname = \"Data_separate_files_header_20150224_20250224_11904_gvo0_20250224.zip\"\n",
    "data_path = ismn_path / fname\n",
    "\n",
    "\n",
    "# Check if the paths exist\n",
    "paths = [path_test_data, h120_path, static_layer_path, grid_path, ismn_path]\n",
    "for p in paths:\n",
    "    assert not p.exists()\n",
    "    print(f\"Path exists: {p}\")"
   ]
  },
  {
   "cell_type": "markdown",
   "metadata": {
    "tags": []
   },
   "source": [
    "## Read ISMN Data\n",
    "\n",
    "To read ISMN data there is a package available on github, which is already installed here. A description and examples can be found here: https://ismn.readthedocs.io/en/latest/examples/interface.html\n",
    "\n",
    "In the following cells we give you an example of how to read the data. The first time your data will be unzipped and takes a bit longer. "
   ]
  },
  {
   "cell_type": "code",
   "execution_count": null,
   "metadata": {},
   "outputs": [],
   "source": [
    "# Either a .zip file or one folder that contains all networks\n",
    "# here we read from .zip\n",
    "ismn_data = ISMN_Interface(data_path, parallel=False)"
   ]
  },
  {
   "cell_type": "code",
   "execution_count": null,
   "metadata": {},
   "outputs": [],
   "source": [
    "dir(ismn_data)"
   ]
  },
  {
   "cell_type": "code",
   "execution_count": null,
   "metadata": {},
   "outputs": [],
   "source": [
    "station_ids = []\n",
    "lats = []\n",
    "lons = []\n",
    "\n",
    "for station in ismn_data.stations_that_measure(\"soil_moisture\"):\n",
    "    station_ids.append(station.name)\n",
    "    lats.append(station.lat)\n",
    "    lons.append(station.lon)\n",
    "\n",
    "plt.figure(figsize=(6, 6))\n",
    "plt.scatter(\n",
    "    lons, lats, marker=\"o\", c=\"red\", edgecolors=\"black\", label=\"ISMN Stations\"\n",
    ")\n",
    "\n",
    "for i, station_id in enumerate(station_ids):\n",
    "    plt.text(lons[i], lats[i], station_id, fontsize=9, ha=\"right\", va=\"bottom\")\n",
    "\n",
    "plt.xlabel(\"Longitude\")\n",
    "plt.ylabel(\"Latitude\")\n",
    "plt.title(\"ISMN Station Locations\")\n",
    "plt.legend()\n",
    "plt.grid(True)\n",
    "plt.show()"
   ]
  },
  {
   "cell_type": "code",
   "execution_count": null,
   "metadata": {},
   "outputs": [],
   "source": [
    "# Loop through each station that measures soil moisture\n",
    "for station in ismn_data.stations_that_measure(\"soil_moisture\"):\n",
    "    print(f\"\\n Station '{station.name}' has the following sensors:\\n\")\n",
    "\n",
    "    for sensor in station.sensors:\n",
    "        print(f\"   - {sensor}\")\n",
    "\n",
    "    print(\"_\" * 60)  # Separator line for readability"
   ]
  },
  {
   "cell_type": "code",
   "execution_count": null,
   "metadata": {},
   "outputs": [],
   "source": [
    "station_id = 54  # integer in the case of this network\n",
    "ismn_data[\"WEGENERNET\"].stations.get(station_id)"
   ]
  },
  {
   "cell_type": "code",
   "execution_count": null,
   "metadata": {},
   "outputs": [],
   "source": [
    "insitu_ds = (\n",
    "    ismn_data[\"WEGENERNET\"]\n",
    "    .stations.get(station_id)[\"Hydraprobe-II_soil_moisture_0.200000_0.200000\"]\n",
    "    .to_xarray()\n",
    ")\n",
    "insitu_ds = insitu_ds.squeeze()\n",
    "insitu_ds"
   ]
  },
  {
   "cell_type": "markdown",
   "metadata": {},
   "source": [
    "Let's plot the data quickly with the xarray module."
   ]
  },
  {
   "cell_type": "code",
   "execution_count": null,
   "metadata": {},
   "outputs": [],
   "source": [
    "insitu_ds.soil_moisture.plot()"
   ]
  },
  {
   "cell_type": "code",
   "execution_count": null,
   "metadata": {},
   "outputs": [],
   "source": [
    "# let's display metadata in form of dataframe, so it is easier to read\n",
    "meta = ismn_data[\"WEGENERNET\"].stations.get(station_id).metadata\n",
    "meta.to_pd()"
   ]
  },
  {
   "cell_type": "markdown",
   "metadata": {},
   "source": [
    "Save the location information."
   ]
  },
  {
   "cell_type": "code",
   "execution_count": null,
   "metadata": {},
   "outputs": [],
   "source": [
    "lon = ismn_data.metadata.longitude.val\n",
    "lat = ismn_data.metadata.latitude.val"
   ]
  },
  {
   "cell_type": "code",
   "execution_count": null,
   "metadata": {},
   "outputs": [],
   "source": [
    "h120_reader = hsaf.AscatSsmDataRecord(\n",
    "    cell_source, grid_path=grid_path, static_layer_path=static_layer_path\n",
    ")\n",
    "print(h120_reader.path)\n",
    "h120_ts = h120_reader.read(float(lon.iloc[0]), float(lat.iloc[0]))\n",
    "h120_ts.head()"
   ]
  },
  {
   "cell_type": "code",
   "execution_count": null,
   "metadata": {},
   "outputs": [],
   "source": [
    "# convert all backscatter to the dry reference cross over angle of 25\n",
    "sig25 = (\n",
    "    h120_ts.sigma40\n",
    "    + h120_ts.slope40 * (25 - 40)\n",
    "    + 0.5 * h120_ts.curvature40 * (25 - 40) ** 2.0\n",
    ")\n",
    "# get the lowest backscatter\n",
    "dry_25 = np.percentile(sig25, 5)\n",
    "# convert to the reference angle of 40\n",
    "dry_ref = (\n",
    "    dry_25\n",
    "    - h120_ts.slope40 * (25 - 40)\n",
    "    - 0.5 * h120_ts.curvature40 * (25 - 40) ** 2\n",
    ")\n",
    "# get the wet reference\n",
    "wet_ref = np.percentile(h120_ts.sigma40, 95)\n",
    "\n",
    "# set bare soil sensitivity\n",
    "lin_bs_sens = 0.21\n",
    "\n",
    "# convert to linear domain\n",
    "lin_wet_ref = 10 ** (wet_ref / 10.0)\n",
    "lin_dry_ref = 10 ** (dry_ref / 10.0)\n",
    "\n",
    "# get total backscatter sensitivity\n",
    "lin_sens = lin_wet_ref - lin_dry_ref\n",
    "inc_angle = -np.cos(np.radians(40)) / 2.0\n",
    "# calculate vod as ratio between bare soil sensitivity and\n",
    "# total backscatter sensitivity\n",
    "# and store it in the h120 dataframe\n",
    "\n",
    "h120_ts.loc[:, \"vod\"] = inc_angle * np.log(lin_sens / lin_bs_sens)\n",
    "# show time series of VOD\n",
    "fig, ax = plt.subplots(1, 1, figsize=(15, 5))\n",
    "ax.plot(h120_ts.loc[\"2018\", \"vod\"], label=\"H120 VOD\")\n",
    "ax.set_ylabel(r\"VOD (m$^2$/m$^2$)\")\n",
    "ax.legend()\n",
    "plt.show()"
   ]
  },
  {
   "cell_type": "code",
   "execution_count": null,
   "metadata": {},
   "outputs": [],
   "source": [
    "h120_ts.sigma40.plot()"
   ]
  },
  {
   "cell_type": "markdown",
   "metadata": {},
   "source": [
    "## Read H120 - Metop ASCAT SSM CDR 12.5 km sampling\n",
    "We need to initialize the reader, where we need to set the paths of the data, the grid file and the static layers. \n",
    "\n",
    "Then the data can be read using either longitude and latitude or per gridpoint. You can find the grid of the H120 product here: \n",
    "http://rs.geo.tuwien.ac.at/dv/dgg/\n",
    "\n",
    "The hsaf package automatically reads the data as a pandas dataframe. Now you can use the full functionality of pandas to do a first analysis of your dataset. \n",
    "You can have a quick look at the data by using the .head() function, showing you the data structure. For the meaning of the different columns have a look at the Product User Manual: http://hsaf.meteoam.it/documents/PUM/ASCAT_SSM_CDR_PUM_v0.8.pdf\n",
    "Most important for getting to know the dataset are the columns 'sm'. "
   ]
  },
  {
   "cell_type": "code",
   "execution_count": null,
   "metadata": {},
   "outputs": [],
   "source": [
    "cell_collection = rat.CellFileCollection.from_product_id(\n",
    "    cell_source, \"H121_V1.0\"\n",
    ")"
   ]
  },
  {
   "cell_type": "markdown",
   "metadata": {},
   "source": [
    "Let's read the data and plot."
   ]
  },
  {
   "cell_type": "code",
   "execution_count": null,
   "metadata": {},
   "outputs": [],
   "source": [
    "h120_reader = hsaf.AscatSsmDataRecord(\n",
    "    cell_source, grid_path=grid_path, static_layer_path=static_layer_path\n",
    ")\n",
    "print(h120_reader.path)\n",
    "h120_ts = h120_reader.read(float(lon.iloc[0]), float(lat.iloc[0]))\n",
    "h120_ts.head()"
   ]
  },
  {
   "cell_type": "code",
   "execution_count": null,
   "metadata": {},
   "outputs": [],
   "source": [
    "h120_ds = cell_collection.read(\n",
    "    coords=(float(lon.iloc[0]), float(lat.iloc[0]))\n",
    ").swap_dims({\"obs\": \"time\"})\n",
    "h120_ds"
   ]
  },
  {
   "cell_type": "markdown",
   "metadata": {},
   "source": [
    "Let's plot all availalble data for this station's location."
   ]
  },
  {
   "cell_type": "code",
   "execution_count": null,
   "metadata": {},
   "outputs": [],
   "source": [
    "h120_ds.surface_soil_moisture.plot(figsize=(10, 5))"
   ]
  },
  {
   "cell_type": "markdown",
   "metadata": {},
   "source": [
    "## Plot H120 Soil Moisture data\n",
    "Now that we have loaded the data we can have a first look at the time series.Soil moisture is available as percentage saturation. If you wish to calculate absolute soil moisture values, a possibility is to multiply the soil moisture data with the porosity value which is stored. "
   ]
  },
  {
   "cell_type": "code",
   "execution_count": null,
   "metadata": {},
   "outputs": [],
   "source": [
    "# show complete time series\n",
    "fig, ax = plt.subplots(1, 1, figsize=(15, 5))\n",
    "ax.plot(h120_ds.surface_soil_moisture, label=\"H120 SSM\")\n",
    "ax.set_ylabel(\"Degree of Saturation (%)\")\n",
    "ax.legend()\n",
    "plt.show()"
   ]
  },
  {
   "cell_type": "code",
   "execution_count": null,
   "metadata": {},
   "outputs": [],
   "source": [
    "# Show time series subset\n",
    "\n",
    "h120_ds_filtered = h120_ds.sel(time=slice(\"2018-01-01\", \"2018-12-31\"))\n",
    "\n",
    "fig, ax = plt.subplots(1, 1, figsize=(15, 5))\n",
    "ax.plot(h120_ds_filtered.surface_soil_moisture, label=\"H120 SSM\")\n",
    "ax.set_ylabel(\"Degree of Saturation (%)\")\n",
    "ax.legend()\n",
    "plt.show()"
   ]
  },
  {
   "cell_type": "markdown",
   "metadata": {},
   "source": [
    "As discussed in the live session, soil moisture is affected by snow cover and frozen soils. We can see this in the subset of 2018, where a clear drop in soil moisture is visible in March, which is not likely due to changes in soil moisture. \n",
    "Hence we mask for frozen soils and snow cover using the probability mask. Please note, this is not the same as masking using in situ data or model data, but only a probability of that these conditions occur."
   ]
  },
  {
   "cell_type": "markdown",
   "metadata": {},
   "source": [
    "## Calculate VOD for exercise 2\n",
    "In exercise 2 you will need an estimate for TAU or the so-called VOD. TAU can be calculated from Metop ASCAT observables and this is done in the code below. VOD is written to the data frame of the ASCAT data, and when you temporally match the data with the ISMN data then you can store the dataframe including VOD.  "
   ]
  },
  {
   "cell_type": "code",
   "execution_count": null,
   "metadata": {},
   "outputs": [],
   "source": [
    "# Convert all backscatter to the dry reference cross over angle of 25 degrees\n",
    "sig25 = (\n",
    "    h120_ds.backscatter40\n",
    "    + h120_ds.slope40 * (25 - 40)\n",
    "    + 0.5 * h120_ds.curvature40 * (25 - 40) ** 2.0\n",
    ")\n",
    "\n",
    "# Get the lowest backscatter (1% in this case)\n",
    "dry_25 = sig25.quantile(0.01, dim=\"time\")\n",
    "\n",
    "# Convert to the reference angle of 40 degrees\n",
    "dry_ref = (\n",
    "    dry_25\n",
    "    - h120_ds.slope40 * (25 - 40)\n",
    "    - 0.5 * h120_ds.curvature40 * (25 - 40) ** 2\n",
    ")\n",
    "\n",
    "# Get the wet reference\n",
    "wet_ref = h120_ds.backscatter40.quantile(0.05, dim=\"time\")\n",
    "\n",
    "# Set bare soil sensitivity\n",
    "lin_bs_sens = 0.21\n",
    "\n",
    "# Convert to linear domain\n",
    "lin_wet_ref = 10 ** (wet_ref / 10.0)\n",
    "lin_dry_ref = 10 ** (dry_ref / 10.0)\n",
    "\n",
    "# Get total backscatter sensitivity\n",
    "lin_sens = lin_wet_ref - lin_dry_ref\n",
    "inc_angle = -np.cos(np.radians(40)) / 2.0\n",
    "\n",
    "# Calculate vod as ratio between bare soil sensitivity\n",
    "# and total backscatter sensitivity and store it in the h120 xarray\n",
    "h120_ds[\"vod\"] = inc_angle * np.log(lin_sens / lin_bs_sens)\n",
    "\n",
    "fig, ax = plt.subplots(1, 1, figsize=(15, 5))\n",
    "ax.plot(\n",
    "    h120_ds.sel(time=slice(\"2018-01-01\", \"2018-12-31\")).vod, label=\"H120 VOD\"\n",
    ")\n",
    "ax.set_ylabel(r\"VOD (m$^2$/m$^2$)\")\n",
    "ax.legend()\n",
    "plt.show()"
   ]
  },
  {
   "cell_type": "markdown",
   "metadata": {},
   "source": [
    "## Temporal matching\n",
    "The data of the in situ station and the satellite observations do not match, e.g. the satellite data is available from 2007 to 2022, the in situ station only since 2014 in my case, the observation times are different with satellite observation irregular between 6 and 10 AM/PM and the in situ data at hourly intervals. So these two datasets need to be matched in time in order to have the same amount of observations. Here it is best practice to match to the most sparse dataset, in our case the ASCAT data."
   ]
  },
  {
   "cell_type": "code",
   "execution_count": null,
   "metadata": {},
   "outputs": [],
   "source": [
    "h120_interp = h120_ds.interp(time=insitu_ds.date_time, method=\"linear\")\n",
    "\n",
    "plt.figure(figsize=(10, 5))\n",
    "\n",
    "insitu_ds.soil_moisture.plot(label=\"In-Situ\")\n",
    "\n",
    "plt.plot(\n",
    "    h120_interp.date_time,\n",
    "    h120_interp.surface_soil_moisture / 100,\n",
    "    label=\"ASCAT\",\n",
    ")\n",
    "\n",
    "plt.xlabel(\"Time\")\n",
    "plt.ylabel(\"Soil Moisture\")\n",
    "plt.legend()\n",
    "plt.title(\"Interpolated ASCAT vs. In-Situ Soil Moisture\")\n",
    "plt.grid()\n",
    "plt.show()"
   ]
  },
  {
   "cell_type": "code",
   "execution_count": null,
   "metadata": {},
   "outputs": [],
   "source": [
    "# Find common date range\n",
    "start_date = max(insitu_ds.date_time.min(), h120_ds.time.min())\n",
    "end_date = min(insitu_ds.date_time.max(), h120_ds.time.max())\n",
    "\n",
    "# Clip datasets to this range\n",
    "insitu_ds_clipped = insitu_ds.sel(date_time=slice(start_date, end_date))\n",
    "h120_interp_clipped = h120_interp.sel(date_time=slice(start_date, end_date))"
   ]
  },
  {
   "cell_type": "code",
   "execution_count": null,
   "metadata": {},
   "outputs": [],
   "source": [
    "plt.figure(figsize=(14, 4))\n",
    "fig, ax1 = plt.subplots(figsize=(14, 6))\n",
    "\n",
    "# In-Situ Soil Moisture in m³/m³\n",
    "lns1 = ax1.plot(\n",
    "    insitu_ds_clipped.date_time,\n",
    "    insitu_ds_clipped.soil_moisture,\n",
    "    label=\"In-Situ SM (m³/m³)\",\n",
    "    color=\"midnightblue\",\n",
    "    marker=\"o\",\n",
    "    markersize=4,\n",
    "    linestyle=\"--\",\n",
    ")\n",
    "ax1.set_xlabel(\"Time\")\n",
    "ax1.set_ylabel(r\"In-Situ SM (m$^3$/m$^3$)\", color=\"midnightblue\")\n",
    "ax1.tick_params(axis=\"y\", labelcolor=\"midnightblue\")\n",
    "\n",
    "# ASCAT Soil Moisture in % Degree of Saturation\n",
    "ax2 = ax1.twinx()\n",
    "lns2 = ax2.plot(\n",
    "    h120_interp.date_time,\n",
    "    h120_interp.surface_soil_moisture,\n",
    "    label=\"ASCAT SM (Degree of Saturation %)\",\n",
    "    color=\"seagreen\",\n",
    "    linestyle=\"-\",\n",
    "    alpha=0.7,\n",
    ")\n",
    "ax2.set_ylabel(\"ASCAT SM (Degree of Saturation %)\", color=\"seagreen\")\n",
    "ax2.tick_params(axis=\"y\", labelcolor=\"seagreen\")\n",
    "\n",
    "# Combine Legends from Both Axes\n",
    "lns = lns1 + lns2\n",
    "labels = [elem.get_label() for elem in lns]\n",
    "ax1.legend(lns, labels, loc=\"upper left\")\n",
    "\n",
    "plt.title(\"Interpolated ASCAT vs. In-Situ Soil Moisture\")\n",
    "plt.grid()\n",
    "plt.show()"
   ]
  },
  {
   "cell_type": "markdown",
   "metadata": {},
   "source": [
    "Keep in mind that all variables are now in one dataset, where soil_moisture stands for in situ data, while sm for ASCAT data. Therefore, we should rename variables for convenience."
   ]
  },
  {
   "cell_type": "code",
   "execution_count": null,
   "metadata": {},
   "outputs": [],
   "source": [
    "merged_ds = xr.merge([insitu_ds.squeeze(), h120_interp]).rename(\n",
    "    {\"soil_moisture\": \"SM_insitu\", \"surface_soil_moisture\": \"SM_ascat\"}\n",
    ")\n",
    "merged_ds"
   ]
  },
  {
   "cell_type": "markdown",
   "metadata": {},
   "source": [
    "Lets save the data to load it for other notebooks. The most convenient format is zarr."
   ]
  },
  {
   "cell_type": "code",
   "execution_count": null,
   "metadata": {},
   "outputs": [],
   "source": [
    "merged_ds.to_zarr(\"merged_soilmoisture_vod.zarr\", mode=\"w\")"
   ]
  },
  {
   "cell_type": "markdown",
   "metadata": {},
   "source": [
    "## Exercise\n",
    "To complete the exercise, please locate an ISMN station of your interest, download the ISMN data, read in the data using the longitude and latitude. Do a temporal matching of the data and plot the time series as shown below and upload this to the Padlet with a description and first interpretation. If necessary, save your matched dataframe (see below) so you have it ready for the other exercises."
   ]
  },
  {
   "cell_type": "code",
   "execution_count": null,
   "metadata": {},
   "outputs": [],
   "source": []
  }
 ],
 "metadata": {
  "kernelspec": {
   "display_name": "dreo",
   "language": "python",
   "name": "python3"
  },
  "language_info": {
   "codemirror_mode": {
    "name": "ipython",
    "version": 3
   },
   "file_extension": ".py",
   "mimetype": "text/x-python",
   "name": "python",
   "nbconvert_exporter": "python",
   "pygments_lexer": "ipython3",
   "version": "3.10.16"
  }
 },
 "nbformat": 4,
 "nbformat_minor": 4
}
